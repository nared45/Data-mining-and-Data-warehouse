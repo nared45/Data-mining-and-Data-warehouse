{
 "cells": [
  {
   "cell_type": "code",
   "execution_count": 1,
   "id": "45d93e6e",
   "metadata": {},
   "outputs": [],
   "source": [
    "import pandas as pd\n",
    "from sklearn.tree import DecisionTreeClassifier\n",
    "from sklearn.model_selection import train_test_split\n",
    "from sklearn.metrics import f1_score\n",
    "import numpy as np\n",
    "import matplotlib.pyplot as plt\n",
    "%matplotlib inline\n",
    "import seaborn as sns\n",
    "import os\n",
    "import warnings\n",
    "warnings.filterwarnings('ignore')"
   ]
  },
  {
   "cell_type": "code",
   "execution_count": 22,
   "id": "5d089265",
   "metadata": {},
   "outputs": [
    {
     "data": {
      "text/html": [
       "<div>\n",
       "<style scoped>\n",
       "    .dataframe tbody tr th:only-of-type {\n",
       "        vertical-align: middle;\n",
       "    }\n",
       "\n",
       "    .dataframe tbody tr th {\n",
       "        vertical-align: top;\n",
       "    }\n",
       "\n",
       "    .dataframe thead th {\n",
       "        text-align: right;\n",
       "    }\n",
       "</style>\n",
       "<table border=\"1\" class=\"dataframe\">\n",
       "  <thead>\n",
       "    <tr style=\"text-align: right;\">\n",
       "      <th></th>\n",
       "      <th>Loan_ID</th>\n",
       "      <th>Gender</th>\n",
       "      <th>Married</th>\n",
       "      <th>Dependents</th>\n",
       "      <th>Education</th>\n",
       "      <th>Self_Employed</th>\n",
       "      <th>ApplicantIncome</th>\n",
       "      <th>CoapplicantIncome</th>\n",
       "      <th>LoanAmount</th>\n",
       "      <th>Loan_Amount_Term</th>\n",
       "      <th>Credit_History</th>\n",
       "      <th>Property_Area</th>\n",
       "      <th>Loan_Status</th>\n",
       "    </tr>\n",
       "  </thead>\n",
       "  <tbody>\n",
       "    <tr>\n",
       "      <th>0</th>\n",
       "      <td>LP001002</td>\n",
       "      <td>Male</td>\n",
       "      <td>No</td>\n",
       "      <td>0</td>\n",
       "      <td>Graduate</td>\n",
       "      <td>No</td>\n",
       "      <td>5849</td>\n",
       "      <td>0.0</td>\n",
       "      <td>NaN</td>\n",
       "      <td>360.0</td>\n",
       "      <td>1.0</td>\n",
       "      <td>Urban</td>\n",
       "      <td>Y</td>\n",
       "    </tr>\n",
       "    <tr>\n",
       "      <th>1</th>\n",
       "      <td>LP001003</td>\n",
       "      <td>Male</td>\n",
       "      <td>Yes</td>\n",
       "      <td>1</td>\n",
       "      <td>Graduate</td>\n",
       "      <td>No</td>\n",
       "      <td>4583</td>\n",
       "      <td>1508.0</td>\n",
       "      <td>128.0</td>\n",
       "      <td>360.0</td>\n",
       "      <td>1.0</td>\n",
       "      <td>Rural</td>\n",
       "      <td>N</td>\n",
       "    </tr>\n",
       "    <tr>\n",
       "      <th>2</th>\n",
       "      <td>LP001005</td>\n",
       "      <td>Male</td>\n",
       "      <td>Yes</td>\n",
       "      <td>0</td>\n",
       "      <td>Graduate</td>\n",
       "      <td>Yes</td>\n",
       "      <td>3000</td>\n",
       "      <td>0.0</td>\n",
       "      <td>66.0</td>\n",
       "      <td>360.0</td>\n",
       "      <td>1.0</td>\n",
       "      <td>Urban</td>\n",
       "      <td>Y</td>\n",
       "    </tr>\n",
       "    <tr>\n",
       "      <th>3</th>\n",
       "      <td>LP001006</td>\n",
       "      <td>Male</td>\n",
       "      <td>Yes</td>\n",
       "      <td>0</td>\n",
       "      <td>Not Graduate</td>\n",
       "      <td>No</td>\n",
       "      <td>2583</td>\n",
       "      <td>2358.0</td>\n",
       "      <td>120.0</td>\n",
       "      <td>360.0</td>\n",
       "      <td>1.0</td>\n",
       "      <td>Urban</td>\n",
       "      <td>Y</td>\n",
       "    </tr>\n",
       "    <tr>\n",
       "      <th>4</th>\n",
       "      <td>LP001008</td>\n",
       "      <td>Male</td>\n",
       "      <td>No</td>\n",
       "      <td>0</td>\n",
       "      <td>Graduate</td>\n",
       "      <td>No</td>\n",
       "      <td>6000</td>\n",
       "      <td>0.0</td>\n",
       "      <td>141.0</td>\n",
       "      <td>360.0</td>\n",
       "      <td>1.0</td>\n",
       "      <td>Urban</td>\n",
       "      <td>Y</td>\n",
       "    </tr>\n",
       "  </tbody>\n",
       "</table>\n",
       "</div>"
      ],
      "text/plain": [
       "    Loan_ID Gender Married Dependents     Education Self_Employed  \\\n",
       "0  LP001002   Male      No          0      Graduate            No   \n",
       "1  LP001003   Male     Yes          1      Graduate            No   \n",
       "2  LP001005   Male     Yes          0      Graduate           Yes   \n",
       "3  LP001006   Male     Yes          0  Not Graduate            No   \n",
       "4  LP001008   Male      No          0      Graduate            No   \n",
       "\n",
       "   ApplicantIncome  CoapplicantIncome  LoanAmount  Loan_Amount_Term  \\\n",
       "0             5849                0.0         NaN             360.0   \n",
       "1             4583             1508.0       128.0             360.0   \n",
       "2             3000                0.0        66.0             360.0   \n",
       "3             2583             2358.0       120.0             360.0   \n",
       "4             6000                0.0       141.0             360.0   \n",
       "\n",
       "   Credit_History Property_Area Loan_Status  \n",
       "0             1.0         Urban           Y  \n",
       "1             1.0         Rural           N  \n",
       "2             1.0         Urban           Y  \n",
       "3             1.0         Urban           Y  \n",
       "4             1.0         Urban           Y  "
      ]
     },
     "execution_count": 22,
     "metadata": {},
     "output_type": "execute_result"
    }
   ],
   "source": [
    "# Load the dataset into a DataFrame\n",
    "data = pd.read_csv('C:/Users/tam05/downloads/Loan Prediction Problem Dataset/train_u6lujuX_CVtuZ9i.csv')\n",
    "data.head()"
   ]
  },
  {
   "cell_type": "code",
   "execution_count": 23,
   "id": "ad3e97d0",
   "metadata": {},
   "outputs": [
    {
     "name": "stdout",
     "output_type": "stream",
     "text": [
      "<class 'pandas.core.frame.DataFrame'>\n",
      "RangeIndex: 614 entries, 0 to 613\n",
      "Data columns (total 13 columns):\n",
      " #   Column             Non-Null Count  Dtype  \n",
      "---  ------             --------------  -----  \n",
      " 0   Loan_ID            614 non-null    object \n",
      " 1   Gender             601 non-null    object \n",
      " 2   Married            611 non-null    object \n",
      " 3   Dependents         599 non-null    object \n",
      " 4   Education          614 non-null    object \n",
      " 5   Self_Employed      582 non-null    object \n",
      " 6   ApplicantIncome    614 non-null    int64  \n",
      " 7   CoapplicantIncome  614 non-null    float64\n",
      " 8   LoanAmount         592 non-null    float64\n",
      " 9   Loan_Amount_Term   600 non-null    float64\n",
      " 10  Credit_History     564 non-null    float64\n",
      " 11  Property_Area      614 non-null    object \n",
      " 12  Loan_Status        614 non-null    object \n",
      "dtypes: float64(4), int64(1), object(8)\n",
      "memory usage: 62.5+ KB\n"
     ]
    }
   ],
   "source": [
    "data.info()"
   ]
  },
  {
   "cell_type": "code",
   "execution_count": 24,
   "id": "f9f9de8c",
   "metadata": {},
   "outputs": [
    {
     "data": {
      "text/plain": [
       "Credit_History       50\n",
       "Self_Employed        32\n",
       "LoanAmount           22\n",
       "Dependents           15\n",
       "Loan_Amount_Term     14\n",
       "Gender               13\n",
       "Married               3\n",
       "Loan_ID               0\n",
       "Education             0\n",
       "ApplicantIncome       0\n",
       "CoapplicantIncome     0\n",
       "Property_Area         0\n",
       "Loan_Status           0\n",
       "dtype: int64"
      ]
     },
     "execution_count": 24,
     "metadata": {},
     "output_type": "execute_result"
    }
   ],
   "source": [
    "data.isnull().sum().sort_values(ascending=False)"
   ]
  },
  {
   "cell_type": "code",
   "execution_count": 25,
   "id": "5a52ddf8",
   "metadata": {},
   "outputs": [],
   "source": [
    "#for numerical type\n",
    "data ['LoanAmount'] = data ['LoanAmount'].fillna(data ['LoanAmount'].mean())\n",
    "data ['Loan_Amount_Term'] = data ['Loan_Amount_Term'].fillna(data ['Loan_Amount_Term'].mean())\n",
    "data ['Credit_History'] = data ['Credit_History'].fillna(data ['Credit_History'].mean())"
   ]
  },
  {
   "cell_type": "code",
   "execution_count": 26,
   "id": "4f80d7fc",
   "metadata": {},
   "outputs": [],
   "source": [
    "#For ccategorical type \n",
    "data ['Gender'] = data ['Gender'].fillna(data['Gender'].mode()[0])\n",
    "data ['Married'] = data ['Married'].fillna(data['Married'].mode()[0])\n",
    "data ['Dependents'] = data ['Dependents'].fillna(data['Dependents'].mode()[0])\n",
    "data ['Self_Employed'] = data ['Self_Employed'].fillna(data['Self_Employed'].mode()[0])"
   ]
  },
  {
   "cell_type": "code",
   "execution_count": 27,
   "id": "cd8937ee",
   "metadata": {
    "scrolled": true
   },
   "outputs": [
    {
     "data": {
      "text/plain": [
       "Loan_ID              0\n",
       "Gender               0\n",
       "Married              0\n",
       "Dependents           0\n",
       "Education            0\n",
       "Self_Employed        0\n",
       "ApplicantIncome      0\n",
       "CoapplicantIncome    0\n",
       "LoanAmount           0\n",
       "Loan_Amount_Term     0\n",
       "Credit_History       0\n",
       "Property_Area        0\n",
       "Loan_Status          0\n",
       "dtype: int64"
      ]
     },
     "execution_count": 27,
     "metadata": {},
     "output_type": "execute_result"
    }
   ],
   "source": [
    "data.isnull().sum()"
   ]
  },
  {
   "cell_type": "code",
   "execution_count": 28,
   "id": "22f2f9cb",
   "metadata": {},
   "outputs": [
    {
     "name": "stdout",
     "output_type": "stream",
     "text": [
      "<class 'pandas.core.frame.DataFrame'>\n",
      "RangeIndex: 614 entries, 0 to 613\n",
      "Data columns (total 13 columns):\n",
      " #   Column             Non-Null Count  Dtype  \n",
      "---  ------             --------------  -----  \n",
      " 0   Loan_ID            614 non-null    object \n",
      " 1   Gender             614 non-null    object \n",
      " 2   Married            614 non-null    object \n",
      " 3   Dependents         614 non-null    object \n",
      " 4   Education          614 non-null    object \n",
      " 5   Self_Employed      614 non-null    object \n",
      " 6   ApplicantIncome    614 non-null    int64  \n",
      " 7   CoapplicantIncome  614 non-null    float64\n",
      " 8   LoanAmount         614 non-null    float64\n",
      " 9   Loan_Amount_Term   614 non-null    float64\n",
      " 10  Credit_History     614 non-null    float64\n",
      " 11  Property_Area      614 non-null    object \n",
      " 12  Loan_Status        614 non-null    object \n",
      "dtypes: float64(4), int64(1), object(8)\n",
      "memory usage: 62.5+ KB\n"
     ]
    }
   ],
   "source": [
    "data.info()"
   ]
  },
  {
   "cell_type": "code",
   "execution_count": 29,
   "id": "d32da995",
   "metadata": {},
   "outputs": [],
   "source": [
    "weights = {\n",
    "    'ApplicantIncome': 0.3,\n",
    "    'Credit_History': 0.4,\n",
    "    'Property_Area_Rural': 0.1,\n",
    "    'Property_Area_Semiurban': 0.1,\n",
    "    'Property_Area_Urban': 0.1,\n",
    "    'Education': 0.1\n",
    "}"
   ]
  },
  {
   "cell_type": "code",
   "execution_count": 30,
   "id": "f4062bc1",
   "metadata": {},
   "outputs": [],
   "source": [
    "# Normalize the weights\n",
    "total_weight = sum(weights.values())\n",
    "weights = {k: v/total_weight for k, v in weights.items()}\n",
    "\n",
    "# Convert the Property_Area column to dummy variables\n",
    "data = pd.get_dummies(data, columns=['Property_Area'], drop_first=True)"
   ]
  },
  {
   "cell_type": "code",
   "execution_count": 31,
   "id": "0e516ad8",
   "metadata": {},
   "outputs": [
    {
     "ename": "KeyError",
     "evalue": "'Property_Area_Rural'",
     "output_type": "error",
     "traceback": [
      "\u001b[1;31m---------------------------------------------------------------------------\u001b[0m",
      "\u001b[1;31mKeyError\u001b[0m                                  Traceback (most recent call last)",
      "File \u001b[1;32m~\\anaconda3\\envs\\AI4H\\lib\\site-packages\\pandas\\core\\indexes\\base.py:3802\u001b[0m, in \u001b[0;36mIndex.get_loc\u001b[1;34m(self, key, method, tolerance)\u001b[0m\n\u001b[0;32m   3801\u001b[0m \u001b[38;5;28;01mtry\u001b[39;00m:\n\u001b[1;32m-> 3802\u001b[0m     \u001b[38;5;28;01mreturn\u001b[39;00m \u001b[38;5;28;43mself\u001b[39;49m\u001b[38;5;241;43m.\u001b[39;49m\u001b[43m_engine\u001b[49m\u001b[38;5;241;43m.\u001b[39;49m\u001b[43mget_loc\u001b[49m\u001b[43m(\u001b[49m\u001b[43mcasted_key\u001b[49m\u001b[43m)\u001b[49m\n\u001b[0;32m   3803\u001b[0m \u001b[38;5;28;01mexcept\u001b[39;00m \u001b[38;5;167;01mKeyError\u001b[39;00m \u001b[38;5;28;01mas\u001b[39;00m err:\n",
      "File \u001b[1;32m~\\anaconda3\\envs\\AI4H\\lib\\site-packages\\pandas\\_libs\\index.pyx:138\u001b[0m, in \u001b[0;36mpandas._libs.index.IndexEngine.get_loc\u001b[1;34m()\u001b[0m\n",
      "File \u001b[1;32m~\\anaconda3\\envs\\AI4H\\lib\\site-packages\\pandas\\_libs\\index.pyx:165\u001b[0m, in \u001b[0;36mpandas._libs.index.IndexEngine.get_loc\u001b[1;34m()\u001b[0m\n",
      "File \u001b[1;32mpandas\\_libs\\hashtable_class_helper.pxi:5745\u001b[0m, in \u001b[0;36mpandas._libs.hashtable.PyObjectHashTable.get_item\u001b[1;34m()\u001b[0m\n",
      "File \u001b[1;32mpandas\\_libs\\hashtable_class_helper.pxi:5753\u001b[0m, in \u001b[0;36mpandas._libs.hashtable.PyObjectHashTable.get_item\u001b[1;34m()\u001b[0m\n",
      "\u001b[1;31mKeyError\u001b[0m: 'Property_Area_Rural'",
      "\nThe above exception was the direct cause of the following exception:\n",
      "\u001b[1;31mKeyError\u001b[0m                                  Traceback (most recent call last)",
      "Cell \u001b[1;32mIn [31], line 4\u001b[0m\n\u001b[0;32m      1\u001b[0m \u001b[38;5;66;03m# Calculate the content weight score for each row\u001b[39;00m\n\u001b[0;32m      2\u001b[0m data[\u001b[38;5;124m'\u001b[39m\u001b[38;5;124mcontent_weight\u001b[39m\u001b[38;5;124m'\u001b[39m] \u001b[38;5;241m=\u001b[39m (data[\u001b[38;5;124m'\u001b[39m\u001b[38;5;124mApplicantIncome\u001b[39m\u001b[38;5;124m'\u001b[39m]\u001b[38;5;241m*\u001b[39mweights[\u001b[38;5;124m'\u001b[39m\u001b[38;5;124mApplicantIncome\u001b[39m\u001b[38;5;124m'\u001b[39m] \u001b[38;5;241m+\u001b[39m\n\u001b[0;32m      3\u001b[0m                         data[\u001b[38;5;124m'\u001b[39m\u001b[38;5;124mCredit_History\u001b[39m\u001b[38;5;124m'\u001b[39m]\u001b[38;5;241m*\u001b[39mweights[\u001b[38;5;124m'\u001b[39m\u001b[38;5;124mCredit_History\u001b[39m\u001b[38;5;124m'\u001b[39m] \u001b[38;5;241m+\u001b[39m\n\u001b[1;32m----> 4\u001b[0m                         \u001b[43mdata\u001b[49m\u001b[43m[\u001b[49m\u001b[38;5;124;43m'\u001b[39;49m\u001b[38;5;124;43mProperty_Area_Rural\u001b[39;49m\u001b[38;5;124;43m'\u001b[39;49m\u001b[43m]\u001b[49m\u001b[38;5;241m*\u001b[39mweights[\u001b[38;5;124m'\u001b[39m\u001b[38;5;124mProperty_Area_Rural\u001b[39m\u001b[38;5;124m'\u001b[39m] \u001b[38;5;241m+\u001b[39m\n\u001b[0;32m      5\u001b[0m                         data[\u001b[38;5;124m'\u001b[39m\u001b[38;5;124mProperty_Area_Semiurban\u001b[39m\u001b[38;5;124m'\u001b[39m]\u001b[38;5;241m*\u001b[39mweights[\u001b[38;5;124m'\u001b[39m\u001b[38;5;124mProperty_Area_Semiurban\u001b[39m\u001b[38;5;124m'\u001b[39m] \u001b[38;5;241m+\u001b[39m\n\u001b[0;32m      6\u001b[0m                         data[\u001b[38;5;124m'\u001b[39m\u001b[38;5;124mProperty_Area_Urban\u001b[39m\u001b[38;5;124m'\u001b[39m]\u001b[38;5;241m*\u001b[39mweights[\u001b[38;5;124m'\u001b[39m\u001b[38;5;124mProperty_Area_Urban\u001b[39m\u001b[38;5;124m'\u001b[39m] \u001b[38;5;241m+\u001b[39m\n\u001b[0;32m      7\u001b[0m                         data[\u001b[38;5;124m'\u001b[39m\u001b[38;5;124mEducation\u001b[39m\u001b[38;5;124m'\u001b[39m]\u001b[38;5;241m*\u001b[39mweights[\u001b[38;5;124m'\u001b[39m\u001b[38;5;124mEducation\u001b[39m\u001b[38;5;124m'\u001b[39m])\n",
      "File \u001b[1;32m~\\anaconda3\\envs\\AI4H\\lib\\site-packages\\pandas\\core\\frame.py:3807\u001b[0m, in \u001b[0;36mDataFrame.__getitem__\u001b[1;34m(self, key)\u001b[0m\n\u001b[0;32m   3805\u001b[0m \u001b[38;5;28;01mif\u001b[39;00m \u001b[38;5;28mself\u001b[39m\u001b[38;5;241m.\u001b[39mcolumns\u001b[38;5;241m.\u001b[39mnlevels \u001b[38;5;241m>\u001b[39m \u001b[38;5;241m1\u001b[39m:\n\u001b[0;32m   3806\u001b[0m     \u001b[38;5;28;01mreturn\u001b[39;00m \u001b[38;5;28mself\u001b[39m\u001b[38;5;241m.\u001b[39m_getitem_multilevel(key)\n\u001b[1;32m-> 3807\u001b[0m indexer \u001b[38;5;241m=\u001b[39m \u001b[38;5;28;43mself\u001b[39;49m\u001b[38;5;241;43m.\u001b[39;49m\u001b[43mcolumns\u001b[49m\u001b[38;5;241;43m.\u001b[39;49m\u001b[43mget_loc\u001b[49m\u001b[43m(\u001b[49m\u001b[43mkey\u001b[49m\u001b[43m)\u001b[49m\n\u001b[0;32m   3808\u001b[0m \u001b[38;5;28;01mif\u001b[39;00m is_integer(indexer):\n\u001b[0;32m   3809\u001b[0m     indexer \u001b[38;5;241m=\u001b[39m [indexer]\n",
      "File \u001b[1;32m~\\anaconda3\\envs\\AI4H\\lib\\site-packages\\pandas\\core\\indexes\\base.py:3804\u001b[0m, in \u001b[0;36mIndex.get_loc\u001b[1;34m(self, key, method, tolerance)\u001b[0m\n\u001b[0;32m   3802\u001b[0m     \u001b[38;5;28;01mreturn\u001b[39;00m \u001b[38;5;28mself\u001b[39m\u001b[38;5;241m.\u001b[39m_engine\u001b[38;5;241m.\u001b[39mget_loc(casted_key)\n\u001b[0;32m   3803\u001b[0m \u001b[38;5;28;01mexcept\u001b[39;00m \u001b[38;5;167;01mKeyError\u001b[39;00m \u001b[38;5;28;01mas\u001b[39;00m err:\n\u001b[1;32m-> 3804\u001b[0m     \u001b[38;5;28;01mraise\u001b[39;00m \u001b[38;5;167;01mKeyError\u001b[39;00m(key) \u001b[38;5;28;01mfrom\u001b[39;00m \u001b[38;5;21;01merr\u001b[39;00m\n\u001b[0;32m   3805\u001b[0m \u001b[38;5;28;01mexcept\u001b[39;00m \u001b[38;5;167;01mTypeError\u001b[39;00m:\n\u001b[0;32m   3806\u001b[0m     \u001b[38;5;66;03m# If we have a listlike key, _check_indexing_error will raise\u001b[39;00m\n\u001b[0;32m   3807\u001b[0m     \u001b[38;5;66;03m#  InvalidIndexError. Otherwise we fall through and re-raise\u001b[39;00m\n\u001b[0;32m   3808\u001b[0m     \u001b[38;5;66;03m#  the TypeError.\u001b[39;00m\n\u001b[0;32m   3809\u001b[0m     \u001b[38;5;28mself\u001b[39m\u001b[38;5;241m.\u001b[39m_check_indexing_error(key)\n",
      "\u001b[1;31mKeyError\u001b[0m: 'Property_Area_Rural'"
     ]
    }
   ],
   "source": [
    "# Calculate the content weight score for each row\n",
    "data['content_weight'] = (data['ApplicantIncome']*weights['ApplicantIncome'] +\n",
    "                        data['Credit_History']*weights['Credit_History'] +\n",
    "                        data['Property_Area_Rural']*weights['Property_Area_Rural'] +\n",
    "                        data['Property_Area_Semiurban']*weights['Property_Area_Semiurban'] +\n",
    "                        data['Property_Area_Urban']*weights['Property_Area_Urban'] +\n",
    "                        data['Education']*weights['Education'])"
   ]
  },
  {
   "cell_type": "code",
   "execution_count": null,
   "id": "2fdf067f",
   "metadata": {},
   "outputs": [],
   "source": [
    "#for gender\n",
    "sns.countplot(x='Gender',data=data)\n",
    "#as we can see Male applicant is more as compared to Female"
   ]
  },
  {
   "cell_type": "code",
   "execution_count": null,
   "id": "849c4f64",
   "metadata": {},
   "outputs": [],
   "source": [
    "#How do women and men compare when it comes to defaulting on loans in the historical dataset?\n",
    "comp=data[['Loan_Status','Gender']].value_counts().to_frame()\n",
    "comp"
   ]
  },
  {
   "cell_type": "code",
   "execution_count": null,
   "id": "4282c247",
   "metadata": {},
   "outputs": [],
   "source": [
    "sns.countplot(x='Married',data=data)"
   ]
  },
  {
   "cell_type": "code",
   "execution_count": null,
   "id": "f770ad79",
   "metadata": {},
   "outputs": [],
   "source": [
    "sns.countplot(x='Dependents',data=data)"
   ]
  },
  {
   "cell_type": "code",
   "execution_count": null,
   "id": "166f36bf",
   "metadata": {},
   "outputs": [],
   "source": [
    "sns.countplot(x='Education',data=data)"
   ]
  },
  {
   "cell_type": "code",
   "execution_count": null,
   "id": "f688484f",
   "metadata": {},
   "outputs": [],
   "source": [
    "sns.countplot(x='Self_Employed',data=data)"
   ]
  },
  {
   "cell_type": "code",
   "execution_count": null,
   "id": "d58d279c",
   "metadata": {},
   "outputs": [],
   "source": [
    "sns.countplot(x='Property_Area',data=data)"
   ]
  },
  {
   "cell_type": "code",
   "execution_count": null,
   "id": "502c7902",
   "metadata": {},
   "outputs": [],
   "source": [
    "data['ApplicantIncome']= np.log(data['ApplicantIncome'])\n",
    "data['CoapplicantIncome']= np.log(data['CoapplicantIncome']+1)\n",
    "data['LoanAmount'] = np.log(data['LoanAmount'])\n",
    "data['Loan_Amount_Term']= np.log(data['Loan_Amount_Term'])"
   ]
  },
  {
   "cell_type": "code",
   "execution_count": null,
   "id": "175681c5",
   "metadata": {},
   "outputs": [],
   "source": [
    "sns.displot(data['ApplicantIncome'])"
   ]
  },
  {
   "cell_type": "code",
   "execution_count": null,
   "id": "ea0f8b49",
   "metadata": {},
   "outputs": [],
   "source": [
    "sns.displot(data['CoapplicantIncome'])"
   ]
  },
  {
   "cell_type": "code",
   "execution_count": null,
   "id": "11261a62",
   "metadata": {},
   "outputs": [],
   "source": [
    "sns.histplot(data['LoanAmount'])"
   ]
  },
  {
   "cell_type": "code",
   "execution_count": null,
   "id": "6cfa51bd",
   "metadata": {},
   "outputs": [],
   "source": [
    "sns.histplot(data['Loan_Amount_Term'])"
   ]
  },
  {
   "cell_type": "code",
   "execution_count": null,
   "id": "773eb854",
   "metadata": {},
   "outputs": [],
   "source": [
    "sns.displot(data['Credit_History'])"
   ]
  },
  {
   "cell_type": "code",
   "execution_count": null,
   "id": "bd06e1d0",
   "metadata": {},
   "outputs": [],
   "source": [
    "corr=data.corr()\n",
    "plt.figure(figsize=(12,7))\n",
    "sns.heatmap(corr,annot=True, cmap='RdBu')"
   ]
  },
  {
   "cell_type": "code",
   "execution_count": null,
   "id": "1aa74562",
   "metadata": {},
   "outputs": [],
   "source": [
    "data"
   ]
  },
  {
   "cell_type": "code",
   "execution_count": null,
   "id": "f031ab16",
   "metadata": {},
   "outputs": [],
   "source": [
    "data_to_csv = data.drop(['Loan_ID','Loan_Status'], axis=1)\n",
    "data_to_csv"
   ]
  },
  {
   "cell_type": "code",
   "execution_count": null,
   "id": "94bcc23b",
   "metadata": {},
   "outputs": [],
   "source": [
    "# Preprocess the data\n",
    "data1 = pd.get_dummies(data, drop_first=True)"
   ]
  },
  {
   "cell_type": "code",
   "execution_count": null,
   "id": "85d3c648",
   "metadata": {},
   "outputs": [],
   "source": [
    "X = data.drop(['Loan_ID', 'Loan_Status', 'content_weight'], axis=1)\n",
    "y = data['Loan_Status']\n",
    "\n",
    "# Split the data into training and testing sets\n",
    "X_train, X_test, y_train, y_test = train_test_split(X, y, test_size=0.2, random_state=42)\n",
    "\n",
    "clf = DecisionTreeClassifier(random_state=42)\n",
    "clf.fit(X_train, y_train, sample_weight=X_train['content_weight'])\n",
    "\n",
    "# Evaluate the model performance\n",
    "y_pred = clf.predict(X_test)\n",
    "\n",
    "\n",
    "score = f1_score(y_test, y_pred, average='binary', sample_weight=X_test['content_weight'])\n",
    "print('F1-score:', score)"
   ]
  },
  {
   "cell_type": "code",
   "execution_count": null,
   "id": "31c15eb8",
   "metadata": {},
   "outputs": [],
   "source": [
    "import joblib\n",
    "joblib.dump(clf, 'loan_prediction_model.pkl')"
   ]
  },
  {
   "cell_type": "code",
   "execution_count": null,
   "id": "6bbf9805",
   "metadata": {},
   "outputs": [],
   "source": [
    "# Load the decision tree model from file\n",
    "clf = joblib.load('loan_prediction_model.pkl')\n",
    "\n",
    "# Load the column names for the feature variables\n",
    "columns = pd.read_csv('C:/Users/tam05/downloads/Loan Prediction Problem Dataset/train_u6lujuX_CVtuZ9i.csv', nrows=0).columns[1:-1]\n",
    "columns"
   ]
  },
  {
   "cell_type": "code",
   "execution_count": null,
   "id": "ab614756",
   "metadata": {},
   "outputs": [],
   "source": [
    "# Define a function to get user input\n",
    "def get_input():\n",
    "    inputs = {}\n",
    "    for col in columns:\n",
    "        val = input(\"Enter {}: \".format(col))\n",
    "        if col in ['ApplicantIncome', 'CoapplicantIncome', 'LoanAmount', 'Loan_Amount_Term']:\n",
    "            val = float(val)\n",
    "        elif col == 'Credit_History':\n",
    "            val = int(val)\n",
    "        inputs[col] = [val]\n",
    "    df = pd.DataFrame(inputs)\n",
    "    # Add missing columns with default values\n",
    "    for col in X.columns:\n",
    "        if col not in df.columns:\n",
    "            df[col] = 0\n",
    "    # Reorder columns to match training dataset\n",
    "    df = df[X.columns]\n",
    "    return df\n",
    "\n",
    "\n",
    "# Define a function to predict loan approval status\n",
    "def predict_loan_approval(inputs):\n",
    "    # Preprocess the input data\n",
    "    inputs = pd.get_dummies(inputs, drop_first=True)\n",
    "#     print(inputs)\n",
    "    # Make predictions using the decision tree model\n",
    "    y_pred = clf.predict(inputs)\n",
    "    # Get the reasons for the loan approval decision\n",
    "    reasons = []\n",
    "    if y_pred[0] == 0:\n",
    "        reasons.append('Customer does not meet credit history requirement')\n",
    "    if y_pred[0] == 1:\n",
    "        reasons.append('Customer does meet credit history requirement')\n",
    "    if inputs['ApplicantIncome'].values[0] + inputs['CoapplicantIncome'].values[0] < 5000 and y_pred[0] == 0:\n",
    "        reasons.append('Customer does not meet income requirement')\n",
    "    if inputs['ApplicantIncome'].values[0] + inputs['CoapplicantIncome'].values[0] > 5000 and y_pred[0] == 1:\n",
    "        reasons.append('Customer does meet income requirement')\n",
    "    if inputs['LoanAmount'].values[0] > 150 and y_pred[0] == 0:\n",
    "        reasons.append('Customer exceeds loan amount requirement')\n",
    "    if inputs['Property_Area_Semiurban'].values[0] == 0 and y_pred[0] == 0:\n",
    "        reasons.append('Customer does not meet property area requirement')\n",
    "    if inputs['Property_Area_Semiurban'].values[0] == 1 and y_pred[0] == 1:\n",
    "        reasons.append('Customer does meet property area requirement')    \n",
    "    return y_pred[0], reasons\n",
    "\n",
    "# Get user input and make loan approval decision\n",
    "inputs = get_input()\n",
    "approval_status, reasons = predict_loan_approval(inputs)\n",
    "\n",
    "reasons_sentence = \", \".join(reasons)\n",
    "\n",
    "print(\"======================================================\")\n",
    "# Print the loan approval decision and reasons\n",
    "if approval_status == 1:\n",
    "    print(\"Loan application approved.\")\n",
    "else:\n",
    "    print(\"Loan application denied.\")\n",
    "print(\"Reasons: {}.\".format(reasons_sentence))"
   ]
  },
  {
   "cell_type": "code",
   "execution_count": null,
   "id": "e36e4e18",
   "metadata": {},
   "outputs": [],
   "source": [
    "inputs"
   ]
  },
  {
   "cell_type": "code",
   "execution_count": null,
   "id": "5cdf60bd",
   "metadata": {},
   "outputs": [],
   "source": []
  }
 ],
 "metadata": {
  "kernelspec": {
   "display_name": "Python 3 (ipykernel)",
   "language": "python",
   "name": "python3"
  },
  "language_info": {
   "codemirror_mode": {
    "name": "ipython",
    "version": 3
   },
   "file_extension": ".py",
   "mimetype": "text/x-python",
   "name": "python",
   "nbconvert_exporter": "python",
   "pygments_lexer": "ipython3",
   "version": "3.10.4"
  }
 },
 "nbformat": 4,
 "nbformat_minor": 5
}
