{
 "cells": [
  {
   "cell_type": "code",
   "execution_count": 19,
   "metadata": {},
   "outputs": [],
   "source": [
    "import pandas as pd\n",
    "from sklearn.tree import DecisionTreeClassifier\n",
    "import joblib\n",
    "import warnings\n",
    "warnings.filterwarnings('ignore')"
   ]
  },
  {
   "cell_type": "code",
   "execution_count": 39,
   "metadata": {},
   "outputs": [],
   "source": [
    "path = 'C:/Loan/Dataset/train_u6lujuX_CVtuZ9i.csv'"
   ]
  },
  {
   "cell_type": "code",
   "execution_count": 41,
   "metadata": {},
   "outputs": [
    {
     "name": "stdout",
     "output_type": "stream",
     "text": [
      "<class 'pandas.core.frame.DataFrame'>\n",
      "RangeIndex: 614 entries, 0 to 613\n",
      "Data columns (total 13 columns):\n",
      " #   Column             Non-Null Count  Dtype  \n",
      "---  ------             --------------  -----  \n",
      " 0   Loan_ID            614 non-null    object \n",
      " 1   Gender             601 non-null    object \n",
      " 2   Married            611 non-null    object \n",
      " 3   Dependents         599 non-null    object \n",
      " 4   Education          614 non-null    object \n",
      " 5   Self_Employed      582 non-null    object \n",
      " 6   ApplicantIncome    614 non-null    int64  \n",
      " 7   CoapplicantIncome  614 non-null    float64\n",
      " 8   LoanAmount         592 non-null    float64\n",
      " 9   Loan_Amount_Term   600 non-null    float64\n",
      " 10  Credit_History     564 non-null    float64\n",
      " 11  Property_Area      614 non-null    object \n",
      " 12  Loan_Status        614 non-null    object \n",
      "dtypes: float64(4), int64(1), object(8)\n",
      "memory usage: 62.5+ KB\n"
     ]
    }
   ],
   "source": [
    "loan_train = pd.read_csv(path)\n",
    "loan_train.info()"
   ]
  },
  {
   "cell_type": "code",
   "execution_count": 2,
   "metadata": {},
   "outputs": [],
   "source": [
    "clf = joblib.load('C:/Loan/decision_tree_model_feature_selection.pkl')"
   ]
  },
  {
   "attachments": {},
   "cell_type": "markdown",
   "metadata": {},
   "source": [
    "Index(['Credit_History', 'LoanAmount', 'ApplicantIncome', 'CoapplicantIncome','Dependents'],dtype='object')"
   ]
  },
  {
   "cell_type": "code",
   "execution_count": 3,
   "metadata": {},
   "outputs": [
    {
     "data": {
      "text/plain": [
       "Index(['Gender', 'Married', 'Dependents', 'Education', 'Self_Employed',\n",
       "       'ApplicantIncome', 'CoapplicantIncome', 'LoanAmount',\n",
       "       'Loan_Amount_Term', 'Credit_History', 'Property_Area'],\n",
       "      dtype='object')"
      ]
     },
     "execution_count": 3,
     "metadata": {},
     "output_type": "execute_result"
    }
   ],
   "source": [
    "columns = pd.read_csv('C:/Loan/Dataset/train_u6lujuX_CVtuZ9i.csv', nrows=0).columns[1:-1]\n",
    "columns"
   ]
  },
  {
   "cell_type": "code",
   "execution_count": 8,
   "metadata": {},
   "outputs": [],
   "source": [
    "columns  = ['Credit_History', 'LoanAmount', 'ApplicantIncome', 'CoapplicantIncome', 'Dependents']"
   ]
  },
  {
   "cell_type": "code",
   "execution_count": 50,
   "metadata": {},
   "outputs": [
    {
     "name": "stdout",
     "output_type": "stream",
     "text": [
      "['Y']\n",
      "Loan application approved.\n",
      "Reasons:\n",
      "- Customer meets credit history requirement.\n",
      "- Customer meets loan amount requirement.\n",
      "- Customer meets income requirement.\n"
     ]
    }
   ],
   "source": [
    "def get_input():\n",
    "    inputs = []\n",
    "    for col in columns:\n",
    "        val = input(\"Enter {}: \".format(col))\n",
    "        if col in ['ApplicantIncome', 'CoapplicantIncome']:\n",
    "            val = int(val)\n",
    "        elif col in ['LoanAmount', 'Loan_Amount_Term', 'Credit_History']:\n",
    "            val = float(val)\n",
    "        inputs.append(val)\n",
    "    return pd.DataFrame([inputs], columns=columns)\n",
    "\n",
    "def extract_rules(tree, feature_names):\n",
    "    left = tree.tree_.children_left\n",
    "    right = tree.tree_.children_right\n",
    "    threshold = tree.tree_.threshold\n",
    "    features = [feature_names[i] for i in tree.tree_.feature]\n",
    "    # print(left)\n",
    "    # print(right)\n",
    "    # print(threshold)\n",
    "    # print(features)\n",
    "\n",
    "    def recurse(left, right, threshold, features, node, rules):\n",
    "        if threshold[node] != -2:\n",
    "            rules.append((features[node], threshold[node]))\n",
    "            left_rules = recurse(left, right, threshold, features, left[node], [])\n",
    "            right_rules = recurse(left, right, threshold, features, right[node], [])\n",
    "            return rules + left_rules + right_rules\n",
    "        else:\n",
    "            return rules\n",
    "    \n",
    "    return recurse(left, right, threshold, features, 0, [])\n",
    "def predict_loan_approval(inputs):\n",
    "    new_data = inputs[['Credit_History', 'LoanAmount', 'ApplicantIncome', 'CoapplicantIncome', 'Dependents']]\n",
    "    # new_data.loc[:, 'Dependents'] = new_data['Dependents'].apply(lambda x : {'0' : 0, '1' : 1, '2' : 2, '3+' : 3}[x])\n",
    "    new_data['Dependents'] = new_data['Dependents'].apply(lambda x : {'0' : 0, '1' : 1, '2' : 2, '3+' : 3}[x])\n",
    "\n",
    "\n",
    "    y_pred = clf.predict(new_data.values)\n",
    "    \n",
    "    print(y_pred)\n",
    "    \n",
    "    # Extract the decision path and rules\n",
    "    decision_path = clf.decision_path(new_data)\n",
    "    rules = extract_rules(clf, new_data.columns)\n",
    "\n",
    "    reasons = []\n",
    "    met_conditions = []\n",
    "    flags = {'Credit_History': False, 'ApplicantIncome': False, 'LoanAmount': False, 'CoapplicantIncome': False, 'Dependents': False}\n",
    "\n",
    "    for rule in rules:\n",
    "        feature, threshold = rule\n",
    "        value = new_data.iloc[0][feature]\n",
    "\n",
    "        if feature == 'Credit_History' and float(value) < float(threshold) and not flags[feature]:\n",
    "            flags[feature] = True\n",
    "            reasons.append('Customer does not meet credit history requirement.')\n",
    "        elif feature == 'ApplicantIncome' and float(value) < float(threshold) and not flags[feature]:\n",
    "            flags[feature] = True\n",
    "            reasons.append('Customer does not meet income requirement.')\n",
    "        elif feature == 'LoanAmount' and float(value) > float(threshold) and not flags[feature]:\n",
    "            flags[feature] = True\n",
    "            reasons.append('Customer exceeds loan amount requirement.')\n",
    "        elif feature == 'CoapplicantIncome' and float(value) < float(threshold) and not flags[feature]:\n",
    "            flags[feature] = True\n",
    "            reasons.append('Customer does not meet coapplicant income requirement.')\n",
    "        elif feature == 'Dependents' and float(value) > float(threshold) and not flags[feature]:\n",
    "            flags[feature] = True\n",
    "            reasons.append('Customer has too many dependents.')\n",
    "        elif not flags[feature]:\n",
    "            flags[feature] = True\n",
    "            if feature == 'Credit_History':\n",
    "                met_conditions.append('Customer meets credit history requirement.')\n",
    "            elif feature == 'ApplicantIncome':\n",
    "                met_conditions.append('Customer meets income requirement.')\n",
    "            elif feature == 'LoanAmount':\n",
    "                met_conditions.append('Customer meets loan amount requirement.')\n",
    "            elif feature == 'CoapplicantIncome':\n",
    "                met_conditions.append('Customer meets coapplicant income requirement.')\n",
    "            elif feature == 'Dependents':\n",
    "                met_conditions.append('Customer meets dependents requirement.')\n",
    "\n",
    "    return y_pred[0], reasons, met_conditions\n",
    "\n",
    "\n",
    "inputs = get_input()\n",
    "approval_status, reasons, met_conditions = predict_loan_approval(inputs)\n",
    "\n",
    "if approval_status == 'Y':\n",
    "    print(\"Loan application approved.\")\n",
    "    print(\"Reasons:\")\n",
    "    for condition in met_conditions:\n",
    "        print(f\"- {condition}\")\n",
    "else:\n",
    "    print(\"Loan application denied.\")\n",
    "    print(\"Reasons:\")\n",
    "    for reason in reasons:\n",
    "        print(f\"- {reason}\")"
   ]
  },
  {
   "cell_type": "code",
   "execution_count": null,
   "metadata": {},
   "outputs": [],
   "source": []
  }
 ],
 "metadata": {
  "kernelspec": {
   "display_name": "AI4H",
   "language": "python",
   "name": "python3"
  },
  "language_info": {
   "codemirror_mode": {
    "name": "ipython",
    "version": 3
   },
   "file_extension": ".py",
   "mimetype": "text/x-python",
   "name": "python",
   "nbconvert_exporter": "python",
   "pygments_lexer": "ipython3",
   "version": "3.10.4"
  },
  "orig_nbformat": 4
 },
 "nbformat": 4,
 "nbformat_minor": 2
}
